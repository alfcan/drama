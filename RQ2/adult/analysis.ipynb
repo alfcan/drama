{
 "cells": [
  {
   "cell_type": "code",
   "execution_count": 1,
   "id": "ce39cba6",
   "metadata": {},
   "outputs": [],
   "source": [
    "import pandas as pd\n",
    "import os\n",
    "import matplotlib.pyplot as plt\n",
    "import seaborn as sns\n",
    "from pingouin import wilcoxon"
   ]
  },
  {
   "cell_type": "code",
   "execution_count": 73,
   "id": "1f88999c",
   "metadata": {},
   "outputs": [],
   "source": [
    "def process_results(df):\n",
    "    df[['statistical_parity', 'equal_opportunity', 'average_odds']] = df[['statistical_parity', 'equal_opportunity', 'average_odds']].abs()\n",
    "    grouped = df.groupby(['variable', 'fold']).agg('mean').reset_index()\n",
    "    return grouped"
   ]
  },
  {
   "cell_type": "code",
   "execution_count": 74,
   "id": "5ecce93d",
   "metadata": {},
   "outputs": [
    {
     "name": "stdout",
     "output_type": "stream",
     "text": [
      "Processed transformed_adult_sex_category_flip_xgb.csv:\n",
      "  variable  fold  statistical_parity  equal_opportunity  average_odds\n",
      "0      age     0            0.131183           0.083794      0.163269\n",
      "1      age     1            0.155205           0.082770      0.144902\n",
      "2      age     2            0.133867           0.078817      0.150213\n",
      "3      age     3            0.148673           0.095588      0.154339\n",
      "4      age     4            0.154470           0.103462      0.154318\n",
      "Processed adult_xgb.csv:\n",
      "  variable  fold  statistical_parity  equal_opportunity  average_odds\n",
      "0      age     0            0.124035           0.087782      0.163880\n",
      "1      age     1            0.153365           0.082004      0.140176\n",
      "2      age     2            0.140396           0.077966      0.155809\n",
      "3      age     3            0.149625           0.094558      0.152647\n",
      "4      age     4            0.157795           0.099752      0.153860\n",
      "Processed transformed_adult_race_category_flip_xgb.csv:\n",
      "  variable  fold  statistical_parity  equal_opportunity  average_odds\n",
      "0      age     0            0.129277           0.088300      0.162047\n",
      "1      age     1            0.154817           0.080465      0.145158\n",
      "2      age     2            0.141946           0.078793      0.156531\n",
      "3      age     3            0.152425           0.097126      0.160299\n",
      "4      age     4            0.153783           0.101452      0.154186\n",
      "Processed transformed_adult_age_increment_decrement_feature_xgb.csv:\n",
      "  variable  fold  statistical_parity  equal_opportunity  average_odds\n",
      "0      age     0            0.133401           0.077913      0.171462\n",
      "1      age     1            0.150351           0.091180      0.146725\n",
      "2      age     2            0.143176           0.085185      0.163762\n",
      "3      age     3            0.147919           0.099539      0.151981\n",
      "4      age     4            0.161998           0.099169      0.160377\n",
      "Processed transformed_adult_hours.per.week_rf.csv:\n",
      "  variable  fold  statistical_parity  equal_opportunity  average_odds\n",
      "0      age     0            0.122182           0.100378      0.147907\n",
      "1      age     1            0.140818           0.103474      0.141770\n",
      "2      age     2            0.132116           0.083665      0.147853\n",
      "3      age     3            0.165524           0.102784      0.142243\n",
      "4      age     4            0.150788           0.102092      0.146792\n",
      "Processed transformed_adult_native.country_rf.csv:\n",
      "  variable  fold  statistical_parity  equal_opportunity  average_odds\n",
      "0      age     0            0.121248           0.094265      0.153544\n",
      "1      age     1            0.139899           0.101378      0.138532\n",
      "2      age     2            0.137068           0.092998      0.154001\n",
      "3      age     3            0.147855           0.108101      0.141439\n",
      "4      age     4            0.148763           0.104065      0.144261\n",
      "Processed transformed_adult_hours.per.week_xgb.csv:\n",
      "  variable  fold  statistical_parity  equal_opportunity  average_odds\n",
      "0      age     0            0.126428           0.084819      0.162035\n",
      "1      age     1            0.153047           0.085204      0.141197\n",
      "2      age     2            0.137785           0.074874      0.152610\n",
      "3      age     3            0.151649           0.093439      0.157545\n",
      "4      age     4            0.155680           0.105338      0.148980\n",
      "Processed transformed_adult_age_increment_decrement_feature_rf.csv:\n",
      "  variable  fold  statistical_parity  equal_opportunity  average_odds\n",
      "0      age     0            0.125952           0.087394      0.166519\n",
      "1      age     1            0.138715           0.114229      0.146695\n",
      "2      age     2            0.138848           0.095500      0.160443\n",
      "3      age     3            0.154314           0.103260      0.142172\n",
      "4      age     4            0.152521           0.104828      0.149384\n",
      "Processed transformed_adult_race_category_flip_rf.csv:\n",
      "  variable  fold  statistical_parity  equal_opportunity  average_odds\n",
      "0      age     0            0.124943           0.088267      0.155929\n",
      "1      age     1            0.137741           0.100275      0.140119\n",
      "2      age     2            0.142907           0.087455      0.157931\n",
      "3      age     3            0.164095           0.093463      0.150627\n",
      "4      age     4            0.144518           0.105118      0.145386\n",
      "Processed transformed_adult_native.country_xgb.csv:\n",
      "  variable  fold  statistical_parity  equal_opportunity  average_odds\n",
      "0      age     0            0.129271           0.086181      0.161445\n",
      "1      age     1            0.156239           0.079834      0.141476\n",
      "2      age     2            0.141248           0.076092      0.157259\n",
      "3      age     3            0.147361           0.096460      0.151574\n",
      "4      age     4            0.155541           0.103461      0.149236\n",
      "Processed transformed_adult_sex_category_flip_rf.csv:\n",
      "  variable  fold  statistical_parity  equal_opportunity  average_odds\n",
      "0      age     0            0.122075           0.093899      0.150958\n",
      "1      age     1            0.138034           0.103060      0.135491\n",
      "2      age     2            0.133094           0.081641      0.148351\n",
      "3      age     3            0.150074           0.110133      0.146311\n",
      "4      age     4            0.149681           0.103062      0.147061\n",
      "Processed adult_rf.csv:\n",
      "  variable  fold  statistical_parity  equal_opportunity  average_odds\n",
      "0      age     0            0.118682           0.091366      0.154016\n",
      "1      age     1            0.136090           0.104822      0.136729\n",
      "2      age     2            0.136718           0.087839      0.152548\n",
      "3      age     3            0.155589           0.106316      0.146396\n",
      "4      age     4            0.144363           0.104088      0.145629\n"
     ]
    }
   ],
   "source": [
    "os.makedirs('grouped', exist_ok=True)\n",
    "for file in os.listdir('results'):\n",
    "    if file.endswith('.csv'):\n",
    "        df = pd.read_csv(os.path.join('results', file), index_col=0)\n",
    "        grouped_df = process_results(df)\n",
    "        grouped_df.to_csv(f\"results/{file}\")\n",
    "        print(f\"Processed {file}:\")\n",
    "        print(grouped_df.head())"
   ]
  },
  {
   "cell_type": "code",
   "execution_count": 75,
   "id": "eaf1132d",
   "metadata": {},
   "outputs": [],
   "source": [
    "def make_plot(age_trans, base_age, feature_name, model_name):\n",
    "  fig, ax = plt.subplots(1, 2, figsize=(12, 6), sharey=True)\n",
    "\n",
    "  sns.boxplot(data=age_trans[['statistical_parity', 'equal_opportunity', 'average_odds']], ax=ax[0])\n",
    "  sns.boxplot(data=base_age[['statistical_parity', 'equal_opportunity', 'average_odds']], ax=ax[1])\n",
    "  ax[0].set_xticklabels(['Statistical Parity', 'Equal Opportunity', 'Average Odds'])\n",
    "  ax[1].set_xticklabels(['Statistical Parity', 'Equal Opportunity', 'Average Odds'])\n",
    "  ax[0].set_title(f'Transformed feature')\n",
    "  ax[1].set_title('Base Dataset')\n",
    "  plt.savefig(f'imgs/{feature_name}_{model_name}_feature.pdf', bbox_inches='tight')\n",
    "  plt.show()"
   ]
  },
  {
   "cell_type": "code",
   "execution_count": 76,
   "id": "9b2d3df1",
   "metadata": {},
   "outputs": [],
   "source": [
    "def wilcoxon_test(base_age, age, feature_name, model_name):\n",
    "    stats_two_sided = pd.DataFrame()\n",
    "    stats_greater = pd.DataFrame()\n",
    "    os.makedirs('stats_two_sided', exist_ok=True)\n",
    "    os.makedirs('stats_greater', exist_ok=True)\n",
    "    for metric in ['statistical_parity', 'equal_opportunity', 'average_odds']:\n",
    "        print(f\"Wilcoxon test for {metric}:\")\n",
    "        test_two_sided = wilcoxon(base_age[metric], age[metric], alternative='two-sided')\n",
    "        test_two_sided['metric'] = metric\n",
    "        stats_two_sided = pd.concat([stats_two_sided, test_two_sided], ignore_index=True)\n",
    "\n",
    "        test_greater = wilcoxon(base_age[metric], age[metric], alternative='less')\n",
    "        test_greater['metric'] = metric\n",
    "        stats_greater = pd.concat([stats_greater, test_greater], ignore_index=True)\n",
    "\n",
    "    stats_two_sided[['p-val', 'CLES', 'metric']].to_csv(f'stats_two_sided/{feature_name}_{model_name}_wilcoxon.csv', index=False)\n",
    "    stats_greater[['p-val', 'CLES', 'metric']].to_csv(f'stats_greater/{feature_name}_{model_name}_wilcoxon.csv', index=False)"
   ]
  },
  {
   "cell_type": "code",
   "execution_count": 77,
   "id": "cab6df4e",
   "metadata": {},
   "outputs": [
    {
     "name": "stdout",
     "output_type": "stream",
     "text": [
      "Analyzing feature: sex\n",
      "Wilcoxon test for statistical_parity:\n",
      "Wilcoxon test for equal_opportunity:\n",
      "Wilcoxon test for average_odds:\n",
      "Analyzing feature: race\n",
      "Wilcoxon test for statistical_parity:\n",
      "Wilcoxon test for equal_opportunity:\n",
      "Wilcoxon test for average_odds:\n",
      "Analyzing feature: age\n",
      "Wilcoxon test for statistical_parity:\n",
      "Wilcoxon test for equal_opportunity:\n",
      "Wilcoxon test for average_odds:\n",
      "Analyzing feature: hours.per.week\n",
      "Wilcoxon test for statistical_parity:\n",
      "Wilcoxon test for equal_opportunity:\n",
      "Wilcoxon test for average_odds:\n",
      "Analyzing feature: native.country\n",
      "Wilcoxon test for statistical_parity:\n",
      "Wilcoxon test for equal_opportunity:\n",
      "Wilcoxon test for average_odds:\n",
      "Analyzing feature: hours.per.week\n",
      "Wilcoxon test for statistical_parity:\n",
      "Wilcoxon test for equal_opportunity:\n",
      "Wilcoxon test for average_odds:\n",
      "Analyzing feature: age\n",
      "Wilcoxon test for statistical_parity:\n",
      "Wilcoxon test for equal_opportunity:\n",
      "Wilcoxon test for average_odds:\n",
      "Analyzing feature: race\n",
      "Wilcoxon test for statistical_parity:\n",
      "Wilcoxon test for equal_opportunity:\n",
      "Wilcoxon test for average_odds:\n",
      "Analyzing feature: native.country\n",
      "Wilcoxon test for statistical_parity:\n",
      "Wilcoxon test for equal_opportunity:\n",
      "Wilcoxon test for average_odds:\n",
      "Analyzing feature: sex\n",
      "Wilcoxon test for statistical_parity:\n",
      "Wilcoxon test for equal_opportunity:\n",
      "Wilcoxon test for average_odds:\n"
     ]
    }
   ],
   "source": [
    "base_results = ['adult_rf.csv', 'adult_xgb.csv']\n",
    "\n",
    "for ris in os.listdir('results'):\n",
    "    if ris in base_results:\n",
    "        continue\n",
    "    df = pd.read_csv(os.path.join('results', ris), index_col=0)\n",
    "    if '_rf' in ris:\n",
    "        model = 'rf'\n",
    "        base = pd.read_csv('results/adult_rf.csv', index_col=0)\n",
    "    else:\n",
    "        model = 'xgb'\n",
    "        base = pd.read_csv('results/adult_xgb.csv', index_col=0)\n",
    "    \n",
    "    feature = ris.split('_')[2]\n",
    "    print(f\"Analyzing feature: {feature}\")\n",
    "    df = df[df['variable'] == feature]\n",
    "    base = base[base['variable'] == feature]\n",
    "    # make_plot(df, base, feature, model)\n",
    "    wilcoxon_test(base, df, feature, model)\n"
   ]
  },
  {
   "cell_type": "code",
   "execution_count": 2,
   "id": "7b812617",
   "metadata": {},
   "outputs": [],
   "source": [
    "adult_rf = pd.read_csv('results/adult_rf.csv', index_col=0)"
   ]
  },
  {
   "cell_type": "code",
   "execution_count": 6,
   "id": "c7cef913",
   "metadata": {},
   "outputs": [
    {
     "name": "stderr",
     "output_type": "stream",
     "text": [
      "/var/folders/4c/mgvn0dc97_9gst9l7jbv9n640000gn/T/ipykernel_72038/2099124504.py:4: UserWarning: set_ticklabels() should only be used with a fixed number of ticks, i.e. after set_ticks() or using a FixedLocator.\n",
      "  ax.set_xticklabels(ax.get_xticklabels(), rotation=90)\n"
     ]
    },
    {
     "data": {
      "text/plain": [
       "[Text(0, 0, 'age'),\n",
       " Text(1, 0, 'education'),\n",
       " Text(2, 0, 'hours.per.week'),\n",
       " Text(3, 0, 'marital.status'),\n",
       " Text(4, 0, 'native.country'),\n",
       " Text(5, 0, 'occupation'),\n",
       " Text(6, 0, 'race'),\n",
       " Text(7, 0, 'relationship'),\n",
       " Text(8, 0, 'sex'),\n",
       " Text(9, 0, 'workclass')]"
      ]
     },
     "execution_count": 6,
     "metadata": {},
     "output_type": "execute_result"
    },
    {
     "data": {
      "image/png": "[encoded data removed]",
      "text/plain": [
       "<Figure size 800x600 with 1 Axes>"
      ]
     },
     "metadata": {},
     "output_type": "display_data"
    }
   ],
   "source": [
    "fig, ax = plt.subplots(1, 1, figsize=(8, 6))\n",
    "sns.boxplot(y=adult_rf['statistical_parity'], x=adult_rf['variable'], ax=ax)\n",
    "\n",
    "ax.set_xticklabels(ax.get_xticklabels(), rotation=90)"
   ]
  },
  {
   "cell_type": "markdown",
   "id": "6d783e79",
   "metadata": {},
   "source": [
    "## Table setup"
   ]
  },
  {
   "cell_type": "code",
   "execution_count": 13,
   "id": "f1529fe9",
   "metadata": {},
   "outputs": [],
   "source": [
    "full_table = pd.DataFrame()\n",
    "\n",
    "for stats in os.listdir('stats_two_sided'):\n",
    "    if 'rf_' in stats:\n",
    "        df_stats = pd.read_csv(os.path.join('stats_two_sided', stats))\n",
    "        feature = stats.split('_')[0]\n",
    "        df_stats = df_stats.pivot_table(columns='metric', values='p-val')\n",
    "        df_stats['feature'] = feature\n",
    "        full_table = pd.concat([full_table, df_stats], axis=0)\n"
   ]
  },
  {
   "cell_type": "code",
   "execution_count": 17,
   "id": "6fc11375",
   "metadata": {},
   "outputs": [],
   "source": [
    "full_table.columns = ['AOD', 'EOD', 'SP', 'Feature']"
   ]
  },
  {
   "cell_type": "code",
   "execution_count": 18,
   "id": "88c64004",
   "metadata": {},
   "outputs": [],
   "source": [
    "full_table = full_table[['Feature', 'SP', 'AOD', 'EOD']]"
   ]
  },
  {
   "cell_type": "code",
   "execution_count": 20,
   "id": "fe4a0730",
   "metadata": {},
   "outputs": [],
   "source": [
    "full_table.to_latex('table_rf.tex', index=False, float_format=\"%.3f\")"
   ]
  },
  {
   "cell_type": "code",
   "execution_count": 21,
   "id": "7c525452",
   "metadata": {},
   "outputs": [],
   "source": [
    "full_table = pd.DataFrame()\n",
    "\n",
    "for stats in os.listdir('stats_two_sided'):\n",
    "    if 'xgb_' in stats:\n",
    "        df_stats = pd.read_csv(os.path.join('stats_two_sided', stats))\n",
    "        feature = stats.split('_')[0]\n",
    "        df_stats = df_stats.pivot_table(columns='metric', values='p-val')\n",
    "        df_stats['feature'] = feature\n",
    "        full_table = pd.concat([full_table, df_stats], axis=0)\n",
    "\n",
    "full_table.columns = ['AOD', 'EOD', 'SP', 'Feature']\n",
    "full_table = full_table[['Feature', 'SP', 'AOD', 'EOD']]\n",
    "full_table.to_latex('table_xgb.tex', index=False, float_format=\"%.3f\")"
   ]
  }
 ],
 "metadata": {
  "kernelspec": {
   "display_name": "ds",
   "language": "python",
   "name": "python3"
  },
  "language_info": {
   "codemirror_mode": {
    "name": "ipython",
    "version": 3
   },
   "file_extension": ".py",
   "mimetype": "text/x-python",
   "name": "python",
   "nbconvert_exporter": "python",
   "pygments_lexer": "ipython3",
   "version": "3.10.13"
  }
 },
 "nbformat": 4,
 "nbformat_minor": 5
}
